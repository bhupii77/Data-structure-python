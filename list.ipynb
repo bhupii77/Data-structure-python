{
 "cells": [
  {
   "cell_type": "markdown",
   "metadata": {},
   "source": [
    "- create \n",
    "- indexing and slicing\n",
    "- methods \n",
    "- basic operations \n",
    "- comprehensions"
   ]
  },
  {
   "cell_type": "code",
   "execution_count": 2,
   "metadata": {},
   "outputs": [],
   "source": [
    "x = [ ] #empty set \n",
    "a = [1,2,3,4 ] # numerical list \n",
    "b = ['alex','akku','bhupii'] #text list \n",
    "c = ['alex',12 ,'bhupii',34,'akku',65] #mixed list (heterogenous)\n",
    "d = [[1,2],[3,4],[4,5,6,7]] #nested list \n",
    "e = [[2,3,4],[4,5,6],[7,8,9]] #nested list equal length\n"
   ]
  },
  {
   "cell_type": "code",
   "execution_count": 4,
   "metadata": {},
   "outputs": [
    {
     "name": "stdout",
     "output_type": "stream",
     "text": [
      "[1, 1, 1, 1, 1, 1, 1, 1, 1, 1]\n",
      "[1, 2, 3, 1, 2, 3, 1, 2, 3, 1, 2, 3]\n"
     ]
    }
   ],
   "source": [
    "w = [1]*10\n",
    "print(w)\n",
    "\n",
    "w2 = [1,2,3]*4\n",
    "print(w2)"
   ]
  },
  {
   "cell_type": "code",
   "execution_count": 7,
   "metadata": {},
   "outputs": [
    {
     "name": "stdout",
     "output_type": "stream",
     "text": [
      "[1, 2, 3, 6, 4, 5]\n",
      "[[1, 2, 3], [6, 4, 5]]\n"
     ]
    }
   ],
   "source": [
    "a = [1,2,3]\n",
    "b = [6,4,5]\n",
    "c = a + b\n",
    "print(c)\n",
    "\n",
    "d = [a ,b]\n",
    "print(d)"
   ]
  },
  {
   "cell_type": "code",
   "execution_count": 12,
   "metadata": {},
   "outputs": [
    {
     "name": "stdout",
     "output_type": "stream",
     "text": [
      "[1, 2, 3]\n",
      "8\n",
      "[3, 4, 5, 6, 7, 8]\n",
      "[10, 9, 8, 7, 6, 5, 4, 3, 2, 1]\n",
      "1\n",
      "10\n"
     ]
    }
   ],
   "source": [
    "x = [1,2,3,4,5,6,7,8,9,10]\n",
    "print(x[:3]) #first three item\n",
    "print(x[-3]) #last three\n",
    "print(x[2:-2])\n",
    "print(x[::-1])\n",
    "\n",
    "print(x[0])\n",
    "print(x[-1])      \n",
    "\n",
    "\n",
    "\n",
    "      "
   ]
  },
  {
   "cell_type": "code",
   "execution_count": 13,
   "metadata": {},
   "outputs": [
    {
     "name": "stdout",
     "output_type": "stream",
     "text": [
      "12345678910"
     ]
    }
   ],
   "source": [
    "#traverse list \n",
    "for i in x :\n",
    "    print(i, end='')"
   ]
  },
  {
   "cell_type": "markdown",
   "metadata": {},
   "source": [
    "## methods \n",
    "\n",
    " - add \n",
    "    - append \n",
    "    - extend \n",
    "    - insert\n",
    " - remove \n",
    "    - remove \n",
    "    - pop\n",
    "    - clear \n",
    " - helper \n",
    "    - index \n",
    "    - count \n",
    "    - reverse \n",
    "    - sort \n",
    "    - copy    \n",
    "\n",
    "\n"
   ]
  },
  {
   "cell_type": "code",
   "execution_count": 14,
   "metadata": {},
   "outputs": [
    {
     "name": "stdout",
     "output_type": "stream",
     "text": [
      "['The Final Empire ', 'The well of Acension ', 'The hero of ages', 'War breaker ']\n"
     ]
    }
   ],
   "source": [
    "books = []\n",
    "books.append('The Final Empire ')\n",
    "books.append('The well of Acension ')\n",
    "books.append('The hero of ages')\n",
    "books.append('War breaker ')\n",
    "print(books)\n"
   ]
  },
  {
   "cell_type": "code",
   "execution_count": 16,
   "metadata": {},
   "outputs": [
    {
     "name": "stdout",
     "output_type": "stream",
     "text": [
      "['The Final Empire ', 'The Way of Kings', 'The Way of Kings', 'The well of Acension ', 'Words of radience', 'The hero of ages', 'Words of radience', 'War breaker ']\n"
     ]
    }
   ],
   "source": [
    "books.insert(1, 'The Way of Kings')\n",
    "books.insert(4, 'Words of radience')\n",
    "print(books)"
   ]
  },
  {
   "cell_type": "code",
   "execution_count": 19,
   "metadata": {},
   "outputs": [
    {
     "name": "stdout",
     "output_type": "stream",
     "text": [
      "['Twilight saga', 'new moon', 'power of human ', 'jump of sky']\n"
     ]
    }
   ],
   "source": [
    "crappy_books = [\n",
    "    'Twilight saga', 'new moon',\n",
    "    'power of human ',\n",
    "    'jump of sky'\n",
    "]\n",
    "print(crappy_books)"
   ]
  },
  {
   "cell_type": "code",
   "execution_count": 21,
   "metadata": {},
   "outputs": [
    {
     "name": "stdout",
     "output_type": "stream",
     "text": [
      "['The Final Empire ', 'The Way of Kings', 'The Way of Kings', 'The well of Acension ', 'Words of radience', 'The hero of ages', 'Words of radience', 'War breaker ', 'Twilight saga', 'new moon', 'power of human ', 'jump of sky', 'Twilight saga', 'new moon', 'power of human ', 'jump of sky']\n"
     ]
    }
   ],
   "source": [
    "books.extend(crappy_books)\n",
    "print(books)"
   ]
  },
  {
   "cell_type": "code",
   "execution_count": 22,
   "metadata": {},
   "outputs": [
    {
     "name": "stdout",
     "output_type": "stream",
     "text": [
      "[1, 2, 3, 4, 5, 6, 7]\n"
     ]
    }
   ],
   "source": [
    "nums = [1,2,3]\n",
    "more_nums = [4,5,6,7]\n",
    "nums.extend(more_nums)\n",
    "print(nums)"
   ]
  },
  {
   "cell_type": "code",
   "execution_count": 23,
   "metadata": {},
   "outputs": [
    {
     "name": "stdout",
     "output_type": "stream",
     "text": [
      "[[1, 2, 3, 4, 5, 6, 7], [1, 2, 3, 4, 5, 6, 7], [1, 2, 3, 4, 5, 6, 7]]\n"
     ]
    }
   ],
   "source": [
    "num_matrix = [nums,nums,nums]\n",
    "print(num_matrix)"
   ]
  },
  {
   "cell_type": "code",
   "execution_count": 26,
   "metadata": {},
   "outputs": [
    {
     "name": "stdout",
     "output_type": "stream",
     "text": [
      "[1, 2, 3, 4, 5, 6, 7, 4, 5, 6, 7]\n"
     ]
    }
   ],
   "source": [
    "all_num = nums + more_nums\n",
    "print(all_num)"
   ]
  },
  {
   "cell_type": "code",
   "execution_count": 27,
   "metadata": {},
   "outputs": [
    {
     "name": "stdout",
     "output_type": "stream",
     "text": [
      "['make a list of names', 'in a list', '5', 'this is a simpe lis', '']\n"
     ]
    }
   ],
   "source": [
    "#enter a list from a user \n",
    "\n",
    "a = []\n",
    "for i in range (5):\n",
    "    x = input('enter some data:')\n",
    "    a.append(x)\n",
    "print(a)    \n"
   ]
  },
  {
   "cell_type": "code",
   "execution_count": 30,
   "metadata": {},
   "outputs": [
    {
     "name": "stdout",
     "output_type": "stream",
     "text": [
      "[8, 9, 6, 3, 4]\n",
      "31\n"
     ]
    }
   ],
   "source": [
    "# take 5 inputs as numbers and then display the total from the user and the number in a list\n",
    " \n",
    "\n",
    "b = []\n",
    "total = 0\n",
    "for i in range (5):\n",
    "    x = int(input('enter some data:'))\n",
    "    total= total +x\n",
    "    b.append(x)\n",
    "print(b)  \n",
    "print(sum)  \n",
    "\n",
    "            \n"
   ]
  },
  {
   "cell_type": "code",
   "execution_count": 31,
   "metadata": {},
   "outputs": [
    {
     "name": "stdout",
     "output_type": "stream",
     "text": [
      "['The Final Empire ', 'The Way of Kings', 'The Way of Kings', 'The well of Acension ', 'Words of radience', 'The hero of ages', 'Words of radience', 'War breaker ', 'Twilight saga', 'new moon', 'power of human ', 'jump of sky', 'Twilight saga', 'new moon', 'power of human ', 'jump of sky']\n"
     ]
    }
   ],
   "source": [
    "\n",
    "\n",
    "print(books)"
   ]
  },
  {
   "cell_type": "code",
   "execution_count": 38,
   "metadata": {},
   "outputs": [],
   "source": [
    "#remove data \n",
    "\n",
    "books.remove(\"The Final Empire \")\n",
    "\n",
    "#print(books)"
   ]
  },
  {
   "cell_type": "code",
   "execution_count": 52,
   "metadata": {},
   "outputs": [],
   "source": [
    "def safe_remove(val_to_remove):\n",
    "    if val_to_remove in books:\n",
    "        books.remove(val_to_remove)\n",
    "        print(f\"✅{val_to_remove} removed from list\")\n",
    "    else :\n",
    "        print(f'❌{val_to_remove}not found in list')     "
   ]
  },
  {
   "cell_type": "code",
   "execution_count": 54,
   "metadata": {},
   "outputs": [
    {
     "name": "stdout",
     "output_type": "stream",
     "text": [
      "❌The hero of agesnot found in list\n"
     ]
    }
   ],
   "source": [
    "safe_remove('The hero of ages')"
   ]
  },
  {
   "cell_type": "code",
   "execution_count": 59,
   "metadata": {},
   "outputs": [
    {
     "name": "stdout",
     "output_type": "stream",
     "text": [
      "['aman', 'Kenery', 'aabhisek', 'nakul']\n"
     ]
    }
   ],
   "source": [
    "z = ['aman','Kenery','aabhisek','nakul']\n",
    "print(z)\n",
    "#pop()  #remove last element"
   ]
  },
  {
   "cell_type": "code",
   "execution_count": 60,
   "metadata": {},
   "outputs": [
    {
     "data": {
      "text/plain": [
       "'nakul'"
      ]
     },
     "execution_count": 60,
     "metadata": {},
     "output_type": "execute_result"
    }
   ],
   "source": [
    "z.pop()"
   ]
  },
  {
   "cell_type": "code",
   "execution_count": 40,
   "metadata": {},
   "outputs": [
    {
     "name": "stdout",
     "output_type": "stream",
     "text": [
      "The Way of Kings\n",
      "['The Way of Kings', 'The well of Acension ', 'Words of radience', 'The hero of ages', 'Words of radience', 'War breaker ', 'Twilight saga', 'new moon', 'power of human ', 'jump of sky', 'Twilight saga', 'new moon', 'power of human ']\n"
     ]
    }
   ],
   "source": [
    "output = books.pop(1) #remove element at index 1\n",
    "print(output)\n",
    "print(books)\n"
   ]
  },
  {
   "cell_type": "code",
   "execution_count": 41,
   "metadata": {},
   "outputs": [
    {
     "name": "stdout",
     "output_type": "stream",
     "text": [
      "[]\n"
     ]
    }
   ],
   "source": [
    "books.clear()\n",
    "print(books)"
   ]
  },
  {
   "cell_type": "code",
   "execution_count": 48,
   "metadata": {},
   "outputs": [
    {
     "name": "stdout",
     "output_type": "stream",
     "text": [
      "4\n"
     ]
    }
   ],
   "source": [
    "books.clear()\n",
    "print(x)\n"
   ]
  },
  {
   "cell_type": "code",
   "execution_count": 47,
   "metadata": {},
   "outputs": [],
   "source": [
    "del a"
   ]
  },
  {
   "cell_type": "code",
   "execution_count": 3,
   "metadata": {},
   "outputs": [
    {
     "name": "stdout",
     "output_type": "stream",
     "text": [
      "3\n",
      "2\n",
      "0\n"
     ]
    }
   ],
   "source": [
    "#count \n",
    "x = ['a1','b2','a1','a1','b2']\n",
    "print(x.count('a1'))\n",
    "print(x.count('b2'))\n",
    "print(x.count('c2'))"
   ]
  },
  {
   "cell_type": "code",
   "execution_count": 5,
   "metadata": {},
   "outputs": [
    {
     "name": "stdout",
     "output_type": "stream",
     "text": [
      "['a1', 'a1', 'a1', 'b2', 'b2']\n"
     ]
    }
   ],
   "source": [
    "x.sort()\n",
    "print(x)"
   ]
  },
  {
   "cell_type": "code",
   "execution_count": 7,
   "metadata": {},
   "outputs": [
    {
     "name": "stdout",
     "output_type": "stream",
     "text": [
      "['b2', 'b2', 'a1', 'a1', 'a1']\n"
     ]
    }
   ],
   "source": [
    "x.sort(reverse = True)\n",
    "print(x)"
   ]
  },
  {
   "cell_type": "code",
   "execution_count": 11,
   "metadata": {},
   "outputs": [
    {
     "name": "stdout",
     "output_type": "stream",
     "text": [
      "['adhikari', 'aeroplane', 'app', 'apple', 'association']\n",
      "['association', 'apple', 'app', 'aeroplane', 'adhikari']\n",
      "['app', 'apple', 'adhikari', 'aeroplane', 'association']\n",
      "['association', 'aeroplane', 'adhikari', 'apple', 'app']\n"
     ]
    }
   ],
   "source": [
    "words = ['app','aeroplane','apple','adhikari','association']\n",
    "words.sort()\n",
    "print(words)  \n",
    "\n",
    "\n",
    "words.sort(reverse = True)\n",
    "print(words)\n",
    "\n",
    "words.sort(key=len)\n",
    "print(words)\n",
    "\n",
    "words.sort(key=len,reverse=True)\n",
    "print(words)\n",
    "\n"
   ]
  },
  {
   "cell_type": "code",
   "execution_count": 12,
   "metadata": {},
   "outputs": [
    {
     "data": {
      "text/plain": [
       "3"
      ]
     },
     "execution_count": 12,
     "metadata": {},
     "output_type": "execute_result"
    }
   ],
   "source": [
    "words.index('apple')"
   ]
  },
  {
   "cell_type": "code",
   "execution_count": 13,
   "metadata": {},
   "outputs": [],
   "source": [
    "word_copy1 = words #copy by reference \n",
    "wprd_copy2 = words.copy() #copy of value \n"
   ]
  },
  {
   "cell_type": "code",
   "execution_count": 14,
   "metadata": {},
   "outputs": [
    {
     "name": "stdout",
     "output_type": "stream",
     "text": [
      "[1, 2, 3, 4, 4]\n",
      "[1, 2, 3, 4, 4]\n"
     ]
    }
   ],
   "source": [
    "x = [1,2,3]\n",
    "y = x      #copy by reference \n",
    "x.append(4)\n",
    "y.append(4)\n",
    "print(x)\n",
    "print(y)\n"
   ]
  },
  {
   "cell_type": "code",
   "execution_count": 16,
   "metadata": {},
   "outputs": [
    {
     "name": "stdout",
     "output_type": "stream",
     "text": [
      "[1, 2, 3]\n",
      "[1, 2, 3, 4]\n"
     ]
    }
   ],
   "source": [
    "x = [1,2,3]\n",
    "y = x.copy() #copy by value\n",
    "y.append(4)\n",
    "print(x)\n",
    "print(y)\n"
   ]
  },
  {
   "cell_type": "markdown",
   "metadata": {},
   "source": [
    "generating a list of numbers from existing list "
   ]
  },
  {
   "cell_type": "code",
   "execution_count": 6,
   "metadata": {},
   "outputs": [],
   "source": [
    "x = [1,2,3,4,5]"
   ]
  },
  {
   "cell_type": "code",
   "execution_count": 22,
   "metadata": {},
   "outputs": [
    {
     "name": "stdout",
     "output_type": "stream",
     "text": [
      "[1, 4, 9, 16, 25, 1, 16, 81, 256, 625]\n"
     ]
    }
   ],
   "source": [
    "y = x.copy()\n",
    "for i in x :\n",
    "    s=i**2\n",
    "    y.append(s)\n",
    "print(y)    \n"
   ]
  },
  {
   "cell_type": "markdown",
   "metadata": {},
   "source": [
    "list comprehension \n",
    "\n",
    "syntax:\n",
    "```\n",
    "new_list = [operation for item in list]```\n",
    "\n",
    "list comprensive with condition \n",
    "\n",
    "``` \n",
    "new_list=[opertaion for item in list if expression ]```"
   ]
  },
  {
   "cell_type": "code",
   "execution_count": 7,
   "metadata": {},
   "outputs": [
    {
     "name": "stdout",
     "output_type": "stream",
     "text": [
      "[1, 4, 9, 16, 25]\n"
     ]
    }
   ],
   "source": [
    "x2 = [i**2 for i in x]\n",
    "print(x2)\n"
   ]
  },
  {
   "cell_type": "code",
   "execution_count": 8,
   "metadata": {},
   "outputs": [
    {
     "name": "stdout",
     "output_type": "stream",
     "text": [
      "[1, 2, 3, 4, 5, 6, 7, 8, 9, 10]\n",
      "[1, 3, 5, 7, 9]\n"
     ]
    }
   ],
   "source": [
    "a = [1,2,3,4,5,6,7,8,9,10]\n",
    "a_odd = [i for i in a if i %2!= 0]\n",
    "print(a)\n",
    "print(a_odd)"
   ]
  },
  {
   "cell_type": "code",
   "execution_count": 3,
   "metadata": {},
   "outputs": [
    {
     "name": "stdout",
     "output_type": "stream",
     "text": [
      "[1, 2, 3, 4, 5, 6, 7, 8, 9, 10]\n",
      "[8, 64, 216, 512, 1000]\n"
     ]
    }
   ],
   "source": [
    "a = [1,2,3,4,5,6,7,8,9,10]\n",
    "a_even = [i**3 for i in a if i%2 ==0 ]\n",
    "print(a)\n",
    "print(a_even)"
   ]
  },
  {
   "cell_type": "code",
   "execution_count": null,
   "metadata": {},
   "outputs": [],
   "source": []
  }
 ],
 "metadata": {
  "kernelspec": {
   "display_name": "base",
   "language": "python",
   "name": "python3"
  },
  "language_info": {
   "codemirror_mode": {
    "name": "ipython",
    "version": 3
   },
   "file_extension": ".py",
   "mimetype": "text/x-python",
   "name": "python",
   "nbconvert_exporter": "python",
   "pygments_lexer": "ipython3",
   "version": "3.11.4"
  },
  "orig_nbformat": 4
 },
 "nbformat": 4,
 "nbformat_minor": 2
}

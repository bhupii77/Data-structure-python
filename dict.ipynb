{
 "cells": [
  {
   "cell_type": "code",
   "execution_count": 4,
   "metadata": {},
   "outputs": [],
   "source": [
    "x = [['xuv','model' ], '500' ,'UP320001', 30,10, 'Mahindra','Diesel', True ,True ,False]"
   ]
  },
  {
   "cell_type": "code",
   "execution_count": 5,
   "metadata": {},
   "outputs": [
    {
     "data": {
      "text/plain": [
       "'model'"
      ]
     },
     "execution_count": 5,
     "metadata": {},
     "output_type": "execute_result"
    }
   ],
   "source": [
    "x[0]\n",
    "x[0][1]"
   ]
  },
  {
   "cell_type": "code",
   "execution_count": 31,
   "metadata": {},
   "outputs": [],
   "source": [
    "x = {\n",
    "    'brand': \"Mahindra\" ,\n",
    "    'model': \" XUV\" ,\n",
    "    'Series': \"500\",\n",
    "    'Type': \"Diesel\",\n",
    "    'Fuel Capacity': 30,\n",
    "    'Milege': 10 ,\n",
    "    'color': 'white',\n",
    "    'is_4wd': 'True' ,\n",
    "    'Colors': ['Red','White','Black']\n",
    "}   "
   ]
  },
  {
   "cell_type": "code",
   "execution_count": 18,
   "metadata": {},
   "outputs": [
    {
     "name": "stdout",
     "output_type": "stream",
     "text": [
      "30\n"
     ]
    }
   ],
   "source": [
    "print(x[\"Fuel Capacity\"])"
   ]
  },
  {
   "cell_type": "code",
   "execution_count": 15,
   "metadata": {},
   "outputs": [],
   "source": [
    "myhouse = {\n",
    "    \"mummy\": \"42\",\n",
    "    \"papa\" : \"48\",\n",
    "    \"didi\": \"25\",\n",
    "    \" me\" :\"23\" ,\n",
    "    \"hemu\":\"20\"\n",
    "    }"
   ]
  },
  {
   "cell_type": "code",
   "execution_count": 7,
   "metadata": {},
   "outputs": [],
   "source": [
    "info = {}  #eempty dict "
   ]
  },
  {
   "cell_type": "markdown",
   "metadata": {},
   "source": [
    "- add item \n",
    "- update item \n",
    "- remove item \n",
    "- traverse item "
   ]
  },
  {
   "cell_type": "markdown",
   "metadata": {},
   "source": []
  },
  {
   "cell_type": "markdown",
   "metadata": {},
   "source": [
    "how to add new data \n",
    "```\n",
    "dict['new_key']= new_value```"
   ]
  },
  {
   "cell_type": "code",
   "execution_count": 28,
   "metadata": {},
   "outputs": [
    {
     "data": {
      "text/plain": [
       "{'first_name': 'henry', 'last_name': 'Sugar', 'age': 45, 'city': 'New york'}"
      ]
     },
     "execution_count": 28,
     "metadata": {},
     "output_type": "execute_result"
    }
   ],
   "source": [
    "info ['first_name'] = 'henry'\n",
    "info"
   ]
  },
  {
   "cell_type": "code",
   "execution_count": 27,
   "metadata": {},
   "outputs": [
    {
     "name": "stdout",
     "output_type": "stream",
     "text": [
      "{'first_name': 'bhupii', 'last_name': 'Sugar', 'age': 45, 'city': 'New york'}\n"
     ]
    }
   ],
   "source": [
    "info['first_name']= 'bhupii'\n",
    "info ['last_name']= \"Sugar\"\n",
    "info ['age'] =  45\n",
    "info ['city'] = \"New york\"\n",
    "print(info)"
   ]
  },
  {
   "cell_type": "markdown",
   "metadata": {},
   "source": [
    "how to remove data\n",
    "```\n",
    "dict['existing_key]```"
   ]
  },
  {
   "cell_type": "code",
   "execution_count": 17,
   "metadata": {},
   "outputs": [
    {
     "data": {
      "text/plain": [
       "45"
      ]
     },
     "execution_count": 17,
     "metadata": {},
     "output_type": "execute_result"
    }
   ],
   "source": [
    "info.pop('age')"
   ]
  },
  {
   "cell_type": "code",
   "execution_count": 18,
   "metadata": {},
   "outputs": [
    {
     "data": {
      "text/plain": [
       "{'first_name': 'henry', 'last_name': 'Sugar', 'city': 'New york'}"
      ]
     },
     "execution_count": 18,
     "metadata": {},
     "output_type": "execute_result"
    }
   ],
   "source": [
    "info"
   ]
  },
  {
   "cell_type": "markdown",
   "metadata": {},
   "source": [
    "```key error``` when key is not found in the dictionary\n",
    "\n",
    "extract keys and values \n",
    "\n",
    "```\n",
    "dict.keys()\n",
    "dict.values()\n",
    "dict.items\n",
    "```"
   ]
  },
  {
   "cell_type": "code",
   "execution_count": 29,
   "metadata": {},
   "outputs": [
    {
     "name": "stdout",
     "output_type": "stream",
     "text": [
      "dict_keys(['first_name', 'last_name', 'age', 'city'])\n",
      "dict_values(['henry', 'Sugar', 45, 'New york'])\n",
      "dict_items([('first_name', 'henry'), ('last_name', 'Sugar'), ('age', 45), ('city', 'New york')])\n"
     ]
    }
   ],
   "source": [
    "print(info.keys())\n",
    "print(info.values())\n",
    "print(info.items())"
   ]
  },
  {
   "cell_type": "markdown",
   "metadata": {},
   "source": [
    "fetch data from dictionary\n",
    "\n",
    "```\n",
    "dict['key'] #throws error if key doesn't exist\n",
    "dict.get('key') #returns none if key does not exist\n",
    "```"
   ]
  },
  {
   "cell_type": "markdown",
   "metadata": {},
   "source": []
  },
  {
   "cell_type": "code",
   "execution_count": 21,
   "metadata": {},
   "outputs": [
    {
     "data": {
      "text/plain": [
       "'Mahindra'"
      ]
     },
     "execution_count": 21,
     "metadata": {},
     "output_type": "execute_result"
    }
   ],
   "source": [
    "x['brand']"
   ]
  },
  {
   "cell_type": "code",
   "execution_count": 39,
   "metadata": {},
   "outputs": [
    {
     "name": "stdout",
     "output_type": "stream",
     "text": [
      "25\n",
      "48\n",
      "None\n"
     ]
    }
   ],
   "source": [
    "print(myhouse['didi'])\n",
    "print(myhouse['papa'])\n",
    "print(myhouse.get('me'))"
   ]
  },
  {
   "cell_type": "code",
   "execution_count": 34,
   "metadata": {},
   "outputs": [
    {
     "name": "stdout",
     "output_type": "stream",
     "text": [
      "10\n",
      "white\n"
     ]
    }
   ],
   "source": [
    "print(x['Milege'])\n",
    "print(x['color'])\n",
    "#print(x['price']) #key error"
   ]
  },
  {
   "cell_type": "code",
   "execution_count": 31,
   "metadata": {},
   "outputs": [
    {
     "name": "stdout",
     "output_type": "stream",
     "text": [
      "Mahindra\n",
      " XUV\n",
      "None\n",
      "None\n"
     ]
    }
   ],
   "source": [
    "print(x.get('brand'))\n",
    "print(x.get('model'))\n",
    "print(x.get('colors'))\n",
    "print(x.get('price'))"
   ]
  },
  {
   "cell_type": "markdown",
   "metadata": {},
   "source": [
    "traversing a dict"
   ]
  },
  {
   "cell_type": "code",
   "execution_count": 22,
   "metadata": {},
   "outputs": [
    {
     "name": "stdout",
     "output_type": "stream",
     "text": [
      "brand\n",
      "model\n",
      "Series\n",
      "Type\n",
      "Fuel Cpacity\n",
      "Milege\n",
      "color\n",
      "is_4wd\n",
      "Colors\n"
     ]
    }
   ],
   "source": [
    "for i in x :\n",
    "    print(i) #print keys"
   ]
  },
  {
   "cell_type": "code",
   "execution_count": 40,
   "metadata": {},
   "outputs": [
    {
     "name": "stdout",
     "output_type": "stream",
     "text": [
      "mummy\n",
      "papa\n",
      "didi\n",
      " me\n",
      "hemu\n"
     ]
    }
   ],
   "source": [
    "for i in myhouse:\n",
    "    print(i)"
   ]
  },
  {
   "cell_type": "code",
   "execution_count": 23,
   "metadata": {},
   "outputs": [
    {
     "name": "stdout",
     "output_type": "stream",
     "text": [
      "Mahindra\n",
      " XUV\n",
      "500\n",
      "Diesel\n",
      "30\n",
      "10\n",
      "white\n",
      "True\n",
      "['Red', 'White', 'Black']\n"
     ]
    }
   ],
   "source": [
    "for i in x :\n",
    "    print(x[i])"
   ]
  },
  {
   "cell_type": "code",
   "execution_count": 24,
   "metadata": {},
   "outputs": [
    {
     "name": "stdout",
     "output_type": "stream",
     "text": [
      "brand Mahindra\n",
      "model  XUV\n",
      "Series 500\n",
      "Type Diesel\n",
      "Fuel Cpacity 30\n",
      "Milege 10\n",
      "color white\n",
      "is_4wd True\n",
      "Colors ['Red', 'White', 'Black']\n"
     ]
    }
   ],
   "source": [
    "for i in x:\n",
    "    print(i,x[i])"
   ]
  },
  {
   "cell_type": "code",
   "execution_count": 41,
   "metadata": {},
   "outputs": [
    {
     "name": "stdout",
     "output_type": "stream",
     "text": [
      "brand --> Mahindra\n",
      "model -->  XUV\n",
      "Series --> 500\n",
      "Type --> Diesel\n",
      "Fuel Capacity --> 30\n",
      "Milege --> 10\n",
      "color --> white\n",
      "is_4wd --> True\n",
      "Colors --> ['Red', 'White', 'Black']\n"
     ]
    }
   ],
   "source": [
    "for k,v in x.items():\n",
    "    print(k,'-->',v) "
   ]
  },
  {
   "cell_type": "code",
   "execution_count": 43,
   "metadata": {},
   "outputs": [],
   "source": [
    "data = {\n",
    "    \"sol_keys\": [],\n",
    "    \"validity_checks\": {\n",
    "        \"1219\": {\n",
    "            \"AT\": {\n",
    "                \"sol_hours_with_data\": [\n",
    "                    6,\n",
    "                    7,\n",
    "                    8,\n",
    "                    9,\n",
    "                    10,\n",
    "                    11,\n",
    "                    12\n",
    "                ],\n",
    "                \"valid\": False\n",
    "            },\n",
    "            \"HWS\": {\n",
    "                \"sol_hours_with_data\": [\n",
    "                    6,\n",
    "                    7,\n",
    "                    8,\n",
    "                    9,\n",
    "                    10,\n",
    "                    11,\n",
    "                    12\n",
    "                ],\n",
    "                \"valid\": False\n",
    "            },\n",
    "            \"PRE\": {\n",
    "                \"sol_hours_with_data\": [\n",
    "                    6,\n",
    "                    7,\n",
    "                    8,\n",
    "                    9,\n",
    "                    10,\n",
    "                    11,\n",
    "                    12\n",
    "                ],\n",
    "                \"valid\": False\n",
    "            },\n",
    "            \"WD\": {\n",
    "                \"sol_hours_with_data\": [\n",
    "                    6,\n",
    "                    7,\n",
    "                    8,\n",
    "                    9,\n",
    "                    10,\n",
    "                    11,\n",
    "                    12\n",
    "                ],\n",
    "                \"valid\": False\n",
    "            }\n",
    "        },\n",
    "        \"sol_hours_required\": 18,\n",
    "        \"sols_checked\": [\n",
    "            \"1219\"\n",
    "        ]\n",
    "    }\n",
    "}"
   ]
  },
  {
   "cell_type": "code",
   "execution_count": 44,
   "metadata": {},
   "outputs": [
    {
     "data": {
      "text/plain": [
       "{'sol_keys': [],\n",
       " 'validity_checks': {'1219': {'AT': {'sol_hours_with_data': [6,\n",
       "     7,\n",
       "     8,\n",
       "     9,\n",
       "     10,\n",
       "     11,\n",
       "     12],\n",
       "    'valid': False},\n",
       "   'HWS': {'sol_hours_with_data': [6, 7, 8, 9, 10, 11, 12], 'valid': False},\n",
       "   'PRE': {'sol_hours_with_data': [6, 7, 8, 9, 10, 11, 12], 'valid': False},\n",
       "   'WD': {'sol_hours_with_data': [6, 7, 8, 9, 10, 11, 12], 'valid': False}},\n",
       "  'sol_hours_required': 18,\n",
       "  'sols_checked': ['1219']}}"
      ]
     },
     "execution_count": 44,
     "metadata": {},
     "output_type": "execute_result"
    }
   ],
   "source": [
    "data"
   ]
  },
  {
   "cell_type": "code",
   "execution_count": 45,
   "metadata": {},
   "outputs": [
    {
     "name": "stdout",
     "output_type": "stream",
     "text": [
      "sol_keys --> []\n",
      "validity_checks --> {'1219': {'AT': {'sol_hours_with_data': [6, 7, 8, 9, 10, 11, 12], 'valid': False}, 'HWS': {'sol_hours_with_data': [6, 7, 8, 9, 10, 11, 12], 'valid': False}, 'PRE': {'sol_hours_with_data': [6, 7, 8, 9, 10, 11, 12], 'valid': False}, 'WD': {'sol_hours_with_data': [6, 7, 8, 9, 10, 11, 12], 'valid': False}}, 'sol_hours_required': 18, 'sols_checked': ['1219']}\n"
     ]
    }
   ],
   "source": [
    "for k ,v in data.items():\n",
    "    print(k ,'-->',v)"
   ]
  },
  {
   "cell_type": "code",
   "execution_count": 29,
   "metadata": {},
   "outputs": [
    {
     "name": "stdout",
     "output_type": "stream",
     "text": [
      "sol_keys --> []\n",
      "validity_checks --> {'1219': {'AT': {'sol_hours_with_data': [6, 7, 8, 9, 10, 11, 12], 'valid': False}, 'HWS': {'sol_hours_with_data': [6, 7, 8, 9, 10, 11, 12], 'valid': False}, 'PRE': {'sol_hours_with_data': [6, 7, 8, 9, 10, 11, 12], 'valid': False}, 'WD': {'sol_hours_with_data': [6, 7, 8, 9, 10, 11, 12], 'valid': False}}, 'sol_hours_required': 18, 'sols_checked': ['1219']}\n",
      "1219 --> {'AT': {'sol_hours_with_data': [6, 7, 8, 9, 10, 11, 12], 'valid': False}, 'HWS': {'sol_hours_with_data': [6, 7, 8, 9, 10, 11, 12], 'valid': False}, 'PRE': {'sol_hours_with_data': [6, 7, 8, 9, 10, 11, 12], 'valid': False}, 'WD': {'sol_hours_with_data': [6, 7, 8, 9, 10, 11, 12], 'valid': False}}\n",
      "AT {'sol_hours_with_data': [6, 7, 8, 9, 10, 11, 12], 'valid': False}\n",
      "HWS {'sol_hours_with_data': [6, 7, 8, 9, 10, 11, 12], 'valid': False}\n",
      "PRE {'sol_hours_with_data': [6, 7, 8, 9, 10, 11, 12], 'valid': False}\n",
      "WD {'sol_hours_with_data': [6, 7, 8, 9, 10, 11, 12], 'valid': False}\n",
      "sol_hours_required --> 18\n",
      "sols_checked --> ['1219']\n"
     ]
    }
   ],
   "source": [
    "for k ,v in data.items():\n",
    "    print(k , '-->' ,v)\n",
    "    if isinstance (v,dict):\n",
    "        for k1 ,v1 in v.items():\n",
    "            print(k1,'-->',v1)\n",
    "            if isinstance(v1 ,dict):\n",
    "                for k2 , v2 in v1.items():\n",
    "                    print(k2,v2)"
   ]
  },
  {
   "cell_type": "code",
   "execution_count": null,
   "metadata": {},
   "outputs": [],
   "source": [
    "for k ,v in data.items():\n",
    "    print(k , '-->' ,v)\n",
    "    if isinstance (v,dict):\n",
    "        for k1 ,v1 in v.items():\n",
    "            print(k1,'-->',v1)\n",
    "            if isinstance(v1 ,dict):\n",
    "                for k2 , v2 in v1.items():\n",
    "                    print(k2,v2)\n",
    "                    if isinstance (v2,dict):\n",
    "                        for k3,v3 i"
   ]
  },
  {
   "cell_type": "code",
   "execution_count": 30,
   "metadata": {},
   "outputs": [
    {
     "name": "stdout",
     "output_type": "stream",
     "text": [
      "sol_keys --> []\n",
      "validity_checks --> {'1219': {'AT': {'sol_hours_with_data': [6, 7, 8, 9, 10, 11, 12], 'valid': False}, 'HWS': {'sol_hours_with_data': [6, 7, 8, 9, 10, 11, 12], 'valid': False}, 'PRE': {'sol_hours_with_data': [6, 7, 8, 9, 10, 11, 12], 'valid': False}, 'WD': {'sol_hours_with_data': [6, 7, 8, 9, 10, 11, 12], 'valid': False}}, 'sol_hours_required': 18, 'sols_checked': ['1219']}\n",
      "1219 --> {'AT': {'sol_hours_with_data': [6, 7, 8, 9, 10, 11, 12], 'valid': False}, 'HWS': {'sol_hours_with_data': [6, 7, 8, 9, 10, 11, 12], 'valid': False}, 'PRE': {'sol_hours_with_data': [6, 7, 8, 9, 10, 11, 12], 'valid': False}, 'WD': {'sol_hours_with_data': [6, 7, 8, 9, 10, 11, 12], 'valid': False}}\n",
      "AT --> {'sol_hours_with_data': [6, 7, 8, 9, 10, 11, 12], 'valid': False}\n",
      "sol_hours_with_data --> [6, 7, 8, 9, 10, 11, 12]\n",
      "valid --> False\n",
      "HWS --> {'sol_hours_with_data': [6, 7, 8, 9, 10, 11, 12], 'valid': False}\n",
      "sol_hours_with_data --> [6, 7, 8, 9, 10, 11, 12]\n",
      "valid --> False\n",
      "PRE --> {'sol_hours_with_data': [6, 7, 8, 9, 10, 11, 12], 'valid': False}\n",
      "sol_hours_with_data --> [6, 7, 8, 9, 10, 11, 12]\n",
      "valid --> False\n",
      "WD --> {'sol_hours_with_data': [6, 7, 8, 9, 10, 11, 12], 'valid': False}\n",
      "sol_hours_with_data --> [6, 7, 8, 9, 10, 11, 12]\n",
      "valid --> False\n",
      "sol_hours_required --> 18\n",
      "sols_checked --> ['1219']\n"
     ]
    }
   ],
   "source": [
    "def extract (d):\n",
    "    for k, v in d.items():\n",
    "        print(k,'-->',v)\n",
    "        if isinstance (v,dict):\n",
    "            extract(v)\n",
    "extract(data)            \n",
    "             "
   ]
  },
  {
   "cell_type": "code",
   "execution_count": 32,
   "metadata": {},
   "outputs": [
    {
     "name": "stdout",
     "output_type": "stream",
     "text": [
      "- sol_keys\n",
      "\t []\n",
      "- validity_checks\n",
      "- 1219\n",
      "- AT\n",
      "- sol_hours_with_data\n",
      "\t [6, 7, 8, 9, 10, 11, 12]\n",
      "- valid\n",
      "\t False\n",
      "- HWS\n",
      "- sol_hours_with_data\n",
      "\t [6, 7, 8, 9, 10, 11, 12]\n",
      "- valid\n",
      "\t False\n",
      "- PRE\n",
      "- sol_hours_with_data\n",
      "\t [6, 7, 8, 9, 10, 11, 12]\n",
      "- valid\n",
      "\t False\n",
      "- WD\n",
      "- sol_hours_with_data\n",
      "\t [6, 7, 8, 9, 10, 11, 12]\n",
      "- valid\n",
      "\t False\n",
      "- sol_hours_required\n",
      "\t 18\n",
      "- sols_checked\n",
      "\t ['1219']\n"
     ]
    }
   ],
   "source": [
    "# recursive function\n",
    "def extract(d):\n",
    "    for k, v in d.items():\n",
    "        print(f\"- {k}\")\n",
    "        if isinstance(v , dict):\n",
    "            extract(v)\n",
    "        else:\n",
    "            print('\\t', v)\n",
    "\n",
    "extract(data)      "
   ]
  },
  {
   "cell_type": "markdown",
   "metadata": {},
   "source": [
    "Questions "
   ]
  },
  {
   "cell_type": "code",
   "execution_count": 1,
   "metadata": {},
   "outputs": [
    {
     "name": "stdout",
     "output_type": "stream",
     "text": [
      "d\n"
     ]
    }
   ],
   "source": [
    "#x = {\"a\": 50, \"b\": 500, \"c\": 610, \"d\": 1215, \"e\": 20, \"f\": 25}\n",
    "x = {\"a\": 50, \"b\": 500, \"c\": 610, \"d\": 1215, \"e\": 20, \"f\": 25}\n",
    "print(sorted(x.items(), key=lambda i: i[1], reverse=True)[0][0])"
   ]
  },
  {
   "cell_type": "code",
   "execution_count": 2,
   "metadata": {},
   "outputs": [
    {
     "name": "stdout",
     "output_type": "stream",
     "text": [
      "[[12, [1, 2, 3, 4, 6, 12]], [5, [1, 5]], [125, [1, 5, 25, 125]]]\n"
     ]
    }
   ],
   "source": [
    "inp =  [12, 5, 125]\n",
    "out = []\n",
    "for i in inp:\n",
    "    divisors = []\n",
    "    for j in range(1, i+1):\n",
    "        if i % j == 0:\n",
    "            divisors.append(j)\n",
    "    out.append([i, divisors])\n",
    "print(out)"
   ]
  },
  {
   "cell_type": "code",
   "execution_count": 2,
   "metadata": {},
   "outputs": [
    {
     "data": {
      "text/plain": [
       "[['a', 1], ['c', 2], ['d', 3], ['e', 4], ['g', 5], ['i', 6], ['j', 7]]"
      ]
     },
     "execution_count": 2,
     "metadata": {},
     "output_type": "execute_result"
    }
   ],
   "source": [
    "x = {\"a\": 1, \"b\": {\"c\": 2, \"d\": 3},\n",
    "     \"e\": 4, \"f\": {\"g\": 5, \"h\": {\"i\": 6, \"j\": 7}}}\n",
    "# recursive function\n",
    "def extract_dict_to_list(d):\n",
    "    dlist = []\n",
    "    for k, v in d.items():\n",
    "        if isinstance(v , dict):\n",
    "            ans = extract_dict_to_list(v)\n",
    "            dlist.extend(ans) if isinstance(ans, list) else()\n",
    "        else:\n",
    "            dlist.append([k, v])\n",
    "    return dlist\n",
    "extract_dict_to_list(x)"
   ]
  },
  {
   "cell_type": "code",
   "execution_count": null,
   "metadata": {},
   "outputs": [],
   "source": []
  }
 ],
 "metadata": {
  "kernelspec": {
   "display_name": "base",
   "language": "python",
   "name": "python3"
  },
  "language_info": {
   "codemirror_mode": {
    "name": "ipython",
    "version": 3
   },
   "file_extension": ".py",
   "mimetype": "text/x-python",
   "name": "python",
   "nbconvert_exporter": "python",
   "pygments_lexer": "ipython3",
   "version": "3.11.4"
  },
  "orig_nbformat": 4
 },
 "nbformat": 4,
 "nbformat_minor": 2
}
